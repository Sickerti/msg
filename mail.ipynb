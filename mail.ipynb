{
 "cells": [
  {
   "cell_type": "code",
   "execution_count": 12,
   "metadata": {},
   "outputs": [],
   "source": [
    "import os\n",
    "import pandas as pd\n",
    "from extract_msg import Message\n",
    "\n",
    "def extract_msg_data(msg_file):\n",
    "    msg = Message(msg_file)\n",
    "    # Initialisiere leeres Dictionary für die Daten\n",
    "    data = {}\n",
    "    # Durchsuche jede Zeile in der MSG-Datei\n",
    "    for line in msg.body.splitlines():\n",
    "        # Überprüfe, ob eine der gewünschten Schlüsselwörter in der Zeile enthalten ist\n",
    "        for keyword in ['Link zu diesem Datensatz', 'Titel', 'Objektbezeichnung', 'Standortangabe', 'Signatur']:\n",
    "            if keyword in line:\n",
    "                # Extrahiere den Wert nach dem Doppelpunkt ':' und entferne führende und nachfolgende Leerzeichen\n",
    "                value = line.split(':', 1)[1].strip()\n",
    "                # Füge den Wert dem Dictionary hinzu\n",
    "                data[keyword] = value\n",
    "    return data\n",
    "\n",
    "def main():\n",
    "    msg_files = [f for f in os.listdir('.') if os.path.isfile(f) and f.endswith('.msg')]\n",
    "    \n",
    "    data = []\n",
    "    for msg_file in msg_files:\n",
    "        data.append(extract_msg_data(msg_file))\n",
    "\n",
    "    df = pd.DataFrame(data)\n",
    "    df.to_excel('ausgabe.xlsx', index=False)\n",
    "\n",
    "if __name__ == \"__main__\":\n",
    "    main()\n"
   ]
  }
 ],
 "metadata": {
  "kernelspec": {
   "display_name": "Python 3",
   "language": "python",
   "name": "python3"
  },
  "language_info": {
   "codemirror_mode": {
    "name": "ipython",
    "version": 3
   },
   "file_extension": ".py",
   "mimetype": "text/x-python",
   "name": "python",
   "nbconvert_exporter": "python",
   "pygments_lexer": "ipython3",
   "version": "3.8.10"
  }
 },
 "nbformat": 4,
 "nbformat_minor": 2
}
